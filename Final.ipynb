{
 "cells": [
  {
   "cell_type": "code",
   "execution_count": 28,
   "metadata": {},
   "outputs": [],
   "source": [
    "import pandas as pd\n",
    "\n",
    "# Read the CSV file into a pandas DataFrame\n",
    "arrestData = pd.read_csv(\"ArrestData.csv\", index_col=\"_id\")\n",
    "fireData = pd.read_csv(\"FireData.csv\", index_col=\"_id\")\n",
    "playData = pd.read_csv(\"PlayData.csv\", index_col=\"_id\")"
   ]
  },
  {
   "cell_type": "code",
   "execution_count": 67,
   "metadata": {},
   "outputs": [
    {
     "name": "stdout",
     "output_type": "stream",
     "text": [
      "Arrest Data:\n",
      "Index(['PK', 'CCR', 'AGE', 'GENDER', 'RACE', 'ARRESTTIME', 'ARRESTLOCATION',\n",
      "       'OFFENSES', 'INCIDENTLOCATION', 'INCIDENTNEIGHBORHOOD', 'INCIDENTZONE',\n",
      "       'INCIDENTTRACT', 'COUNCIL_DISTRICT', 'PUBLIC_WORKS_DIVISION', 'X', 'Y'],\n",
      "      dtype='object')\n",
      "\n",
      "Fire Data:\n",
      "Index(['call_no', 'incident_type', 'type_description', 'address', 'alarms',\n",
      "       'alarm_time', 'primary_unit', 'census_tract', 'neighborhood',\n",
      "       'council_district', 'ward', 'tract', 'public_works_division',\n",
      "       'pli_division', 'police_zone', 'fire_zone', 'latitude', 'longitude'],\n",
      "      dtype='object')\n",
      "\n",
      "Play Data:\n",
      "Index(['id', 'name', 'equipment_type', 'manufacturer', 'safety_surface_type',\n",
      "       'ada_accessible', 'street_number', 'street', 'neighborhood',\n",
      "       'council_district', 'ward', 'tract', 'public_works_division',\n",
      "       'pli_division', 'police_zone', 'fire_zone', 'latitude', 'longitude'],\n",
      "      dtype='object')\n"
     ]
    }
   ],
   "source": [
    "print(\"Arrest Data:\")\n",
    "print(arrestData.columns)\n",
    "    \n",
    "print(\"\\nFire Data:\")\n",
    "print(fireData.columns)\n",
    "\n",
    "print(\"\\nPlay Data:\")\n",
    "print(playData.columns)"
   ]
  },
  {
   "cell_type": "code",
   "execution_count": 29,
   "metadata": {},
   "outputs": [
    {
     "name": "stdout",
     "output_type": "stream",
     "text": [
      "Bottom 5 Neighborhoods with Lowest Arrests:\n",
      "Ridgemont                  37\n",
      "Central Northside          23\n",
      "Mt. Oliver Boro            18\n",
      "Troy Hill-Herrs Island      6\n",
      "Mt. Oliver Neighborhood     2\n",
      "Name: INCIDENTNEIGHBORHOOD, dtype: int64\n"
     ]
    }
   ],
   "source": [
    "# Group the data by neighborhood and count the number of arrests in each neighborhood\n",
    "neighborhood_arrests = arrestData['INCIDENTNEIGHBORHOOD'].value_counts()\n",
    "\n",
    "# Display the bottom 5 neighborhoods with the lowest number of arrests\n",
    "bottom_neighborhoods = neighborhood_arrests.tail(5)\n",
    "\n",
    "print(\"Bottom 5 Neighborhoods with Lowest Arrests:\")\n",
    "print(bottom_neighborhoods)"
   ]
  },
  {
   "cell_type": "code",
   "execution_count": 109,
   "metadata": {},
   "outputs": [
    {
     "data": {
      "text/plain": [
       "_id\n",
       "30      2701 Simple Assault. / 2707 Propulsion of Miss...\n",
       "62      2707 Propulsion of Missiles  / 3304(a)(5) CRIM...\n",
       "729     6106 Firearms not to be Carried without a Lice...\n",
       "730     6106 Firearms not to be Carried without a Lice...\n",
       "964     2705 Recklessy Endangering Another Person. / 6...\n",
       "2072    2702 Aggravated Assault. / 2705 Recklessy Enda...\n",
       "2087    2702 Aggravated Assault. / 2705 Recklessy Enda...\n",
       "2157    2707 Propulsion of Missiles  / 3304(a)(5) CRIM...\n",
       "2213    2705 Recklessy Endangering Another Person. / 2...\n",
       "2398    2702 Aggravated Assault. / 2705 Recklessy Enda...\n",
       "Name: OFFENSES, dtype: object"
      ]
     },
     "execution_count": 109,
     "metadata": {},
     "output_type": "execute_result"
    }
   ],
   "source": [
    "missileData = arrestData['OFFENSES']\n",
    "# Assuming missileData is a Series from the DataFrame `arrestData`\n",
    "# Filter rows that contain the offense '2707'\n",
    "offense_code = '2707'\n",
    "offense = missileData.str.contains(offense_code, na=False)\n",
    "\n",
    "# Apply the boolean mask to the DataFrame to get only rows with the offense '2707'\n",
    "filtered_data = missileData[offense]\n",
    "\n",
    "# Display the filtered rows\n",
    "filtered_data.head(10)"
   ]
  },
  {
   "cell_type": "code",
   "execution_count": 115,
   "metadata": {},
   "outputs": [
    {
     "data": {
      "text/plain": [
       "'2702 Aggravated Assault. / 2705 Recklessy Endangering Another Person. / 2707 Propulsion of Missiles  / 5503(a)(4) DISORDERLY CONDUCT - HAZARDOUS/PHYS. OFF'"
      ]
     },
     "execution_count": 115,
     "metadata": {},
     "output_type": "execute_result"
    }
   ],
   "source": [
    "arrestData.iloc[2398-1][7]"
   ]
  },
  {
   "cell_type": "code",
   "execution_count": 166,
   "metadata": {},
   "outputs": [
    {
     "name": "stdout",
     "output_type": "stream",
     "text": [
      "213\n"
     ]
    }
   ],
   "source": [
    "print(offense.sum())"
   ]
  },
  {
   "cell_type": "code",
   "execution_count": 164,
   "metadata": {},
   "outputs": [
    {
     "data": {
      "text/plain": [
       "INCIDENTNEIGHBORHOOD\n",
       "Brighton Heights             26\n",
       "Homewood South                9\n",
       "Central Business District     9\n",
       "South Side Flats              8\n",
       "East Hills                    7\n",
       "dtype: int64"
      ]
     },
     "execution_count": 164,
     "metadata": {},
     "output_type": "execute_result"
    }
   ],
   "source": [
    "F = arrestData[offense].groupby('INCIDENTNEIGHBORHOOD').size().sort_values(ascending=False)\n",
    "F.head(5)"
   ]
  },
  {
   "cell_type": "code",
   "execution_count": 167,
   "metadata": {},
   "outputs": [
    {
     "data": {
      "text/plain": [
       "3.25"
      ]
     },
     "execution_count": 167,
     "metadata": {},
     "output_type": "execute_result"
    }
   ],
   "source": [
    "F.mean()"
   ]
  },
  {
   "cell_type": "code",
   "execution_count": 25,
   "metadata": {},
   "outputs": [
    {
     "name": "stdout",
     "output_type": "stream",
     "text": [
      "Bottom 5 Neighborhoods with Least Fire Incidents:\n",
      "Ridgemont               12\n",
      "East Carnegie           11\n",
      "Mt. Oliver              11\n",
      "Regent Square            9\n",
      "Mount Oliver Borough     6\n",
      "Name: neighborhood, dtype: int64\n"
     ]
    }
   ],
   "source": [
    "neighborhood_fires = fireData['neighborhood'].value_counts()\n",
    "\n",
    "# Display the bottom 5 neighborhoods with the least number of fire incidents\n",
    "bottom_neighborhoods = neighborhood_fires.tail(5)\n",
    "print(\"Bottom 5 Neighborhoods with Least Fire Incidents:\")\n",
    "print(bottom_neighborhoods)"
   ]
  },
  {
   "cell_type": "code",
   "execution_count": null,
   "metadata": {},
   "outputs": [],
   "source": []
  },
  {
   "cell_type": "code",
   "execution_count": 24,
   "metadata": {},
   "outputs": [
    {
     "name": "stdout",
     "output_type": "stream",
     "text": [
      "Top 5 Neighborhoods with Highest Playground Equipment:\n",
      "Squirrel Hill South    32\n",
      "East Liberty           26\n",
      "Beechview              21\n",
      "Allegheny Center       15\n",
      "South Side Slopes      14\n",
      "Name: neighborhood, dtype: int64\n"
     ]
    }
   ],
   "source": [
    "neighborhood_playgrounds = playData['neighborhood'].value_counts()\n",
    "\n",
    "# Display the top 5 neighborhoods with the highest number of playground equipment\n",
    "top_neighborhoods = neighborhood_playgrounds.head(5)\n",
    "print(\"Top 5 Neighborhoods with Highest Playground Equipment:\")\n",
    "print(top_neighborhoods)"
   ]
  },
  {
   "cell_type": "code",
   "execution_count": null,
   "metadata": {},
   "outputs": [],
   "source": []
  }
 ],
 "metadata": {
  "kernelspec": {
   "display_name": "Python 3",
   "language": "python",
   "name": "python3"
  },
  "language_info": {
   "codemirror_mode": {
    "name": "ipython",
    "version": 3
   },
   "file_extension": ".py",
   "mimetype": "text/x-python",
   "name": "python",
   "nbconvert_exporter": "python",
   "pygments_lexer": "ipython3",
   "version": "3.8.3"
  }
 },
 "nbformat": 4,
 "nbformat_minor": 4
}

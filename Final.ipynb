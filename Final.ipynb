{
 "cells": [
  {
   "cell_type": "code",
   "execution_count": 5,
   "metadata": {},
   "outputs": [
    {
     "name": "stdout",
     "output_type": "stream",
     "text": [
      "Bottom 5 Neighborhoods with Lowest Arrests:\n",
      "Ridgemont                  37\n",
      "Central Northside          23\n",
      "Mt. Oliver Boro            18\n",
      "Troy Hill-Herrs Island      6\n",
      "Mt. Oliver Neighborhood     2\n",
      "Name: INCIDENTNEIGHBORHOOD, dtype: int64\n"
     ]
    }
   ],
   "source": [
    "import pandas as pd\n",
    "\n",
    "# Read the CSV file into a pandas DataFrame\n",
    "file_path = \"arrest.csv\"\n",
    "df = pd.read_csv(file_path)\n",
    "\n",
    "# Group the data by neighborhood and count the number of arrests in each neighborhood\n",
    "neighborhood_arrests = df['INCIDENTNEIGHBORHOOD'].value_counts()\n",
    "\n",
    "# Display the bottom 5 neighborhoods with the lowest number of arrests\n",
    "bottom_neighborhoods = neighborhood_arrests.tail(5)\n",
    "print(\"Bottom 5 Neighborhoods with Lowest Arrests:\")\n",
    "print(bottom_neighborhoods)\n",
    "\n"
   ]
  },
  {
   "cell_type": "code",
   "execution_count": 6,
   "metadata": {},
   "outputs": [
    {
     "name": "stdout",
     "output_type": "stream",
     "text": [
      "Bottom 5 Neighborhoods with Least Fire Incidents:\n",
      "Ridgemont               12\n",
      "East Carnegie           11\n",
      "Mt. Oliver              11\n",
      "Regent Square            9\n",
      "Mount Oliver Borough     6\n",
      "Name: neighborhood, dtype: int64\n"
     ]
    }
   ],
   "source": [
    "import pandas as pd\n",
    "\n",
    "# Read the CSV file into a pandas DataFrame\n",
    "file_path = \"fire.csv\"\n",
    "df = pd.read_csv(file_path)\n",
    "\n",
    "# Group the data by neighborhood and count the number of fire incidents in each neighborhood\n",
    "neighborhood_fires = df['neighborhood'].value_counts()\n",
    "\n",
    "# Display the bottom 5 neighborhoods with the least number of fire incidents\n",
    "bottom_neighborhoods = neighborhood_fires.tail(5)\n",
    "print(\"Bottom 5 Neighborhoods with Least Fire Incidents:\")\n",
    "print(bottom_neighborhoods)\n"
   ]
  },
  {
   "cell_type": "code",
   "execution_count": 3,
   "metadata": {},
   "outputs": [
    {
     "name": "stdout",
     "output_type": "stream",
     "text": [
      "Top 5 Neighborhoods with Highest Playground Equipment:\n",
      "Squirrel Hill South    32\n",
      "East Liberty           26\n",
      "Beechview              21\n",
      "Allegheny Center       15\n",
      "South Side Slopes      14\n",
      "Name: neighborhood, dtype: int64\n"
     ]
    }
   ],
   "source": [
    "\n",
    "import pandas as pd\n",
    "\n",
    "# Read the CSV file into a pandas DataFrame\n",
    "file_path = \"play.csv\"\n",
    "df = pd.read_csv(file_path)\n",
    "\n",
    "# Group the data by neighborhood and count the number of playground equipment in each neighborhood\n",
    "neighborhood_playgrounds = df['neighborhood'].value_counts()\n",
    "\n",
    "# Display the top 5 neighborhoods with the highest number of playground equipment\n",
    "top_neighborhoods = neighborhood_playgrounds.head(5)\n",
    "print(\"Top 5 Neighborhoods with Highest Playground Equipment:\")\n",
    "print(top_neighborhoods)\n"
   ]
  }
 ],
 "metadata": {
  "kernelspec": {
   "display_name": "Python 3",
   "language": "python",
   "name": "python3"
  },
  "language_info": {
   "codemirror_mode": {
    "name": "ipython",
    "version": 3
   },
   "file_extension": ".py",
   "mimetype": "text/x-python",
   "name": "python",
   "nbconvert_exporter": "python",
   "pygments_lexer": "ipython3",
   "version": "3.8.3"
  }
 },
 "nbformat": 4,
 "nbformat_minor": 4
}

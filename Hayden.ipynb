{
 "cells": [
  {
   "cell_type": "markdown",
   "metadata": {},
   "source": [
    "## This is Hayden's notebook. I'll only keep the changes I made throughout this assigment.. which was a lot."
   ]
  },
  {
   "cell_type": "markdown",
   "metadata": {},
   "source": [
    "# Introduction - Yab has his own, I just clarified a few points:"
   ]
  },
  {
   "cell_type": "markdown",
   "metadata": {},
   "source": [
    "## In this project, we aim to use a **thorough** data-driven approach to determine Pittsburgh's best neighborhood. In order to do this, we have developed a metric that takes into account important characteristics from several datasets, such as \"arrest.csv,\" \"fire.csv,\" and \"play.csv.\" Our method combines recreational and safety factors to create a thorough assessment of neighborhood desirability; however, heavy emphasis is weighted upon safety.\n",
    "\n",
    "### Safety is the number 1 metric for us because it controls if you're... safe!\n",
    "\n",
    "#### Our motivation is to provide the best analysis on the safest neighborhood in Pittsburgh, Pennsylvania such that families can sleep sound and safe knowing they have #TeamSafety on their side."
   ]
  },
  {
   "cell_type": "markdown",
   "metadata": {},
   "source": [
    "## **First**, we have to import our libraries and set out datasets"
   ]
  },
  {
   "cell_type": "markdown",
   "metadata": {},
   "source": [
    "## Yab imported the data as his own, you can check the change logs, I just formatted it to be more pleasing / readable"
   ]
  },
  {
   "cell_type": "code",
   "execution_count": 3,
   "metadata": {},
   "outputs": [],
   "source": [
    "import pandas as pd\n",
    "import matplotlib.pyplot as plt\n",
    "\n",
    "# Read the CSV file into a pandas DataFrame\n",
    "arrestData = pd.read_csv(\"ArrestData.csv\", index_col=\"_id\")\n",
    "fireData = pd.read_csv(\"FireData.csv\", index_col=\"_id\")\n",
    "playData = pd.read_csv(\"PlayData.csv\", index_col=\"_id\")"
   ]
  },
  {
   "cell_type": "markdown",
   "metadata": {},
   "source": [
    "#### We also want to check what data each dataset has.. this was mine"
   ]
  },
  {
   "cell_type": "code",
   "execution_count": 4,
   "metadata": {},
   "outputs": [
    {
     "name": "stdout",
     "output_type": "stream",
     "text": [
      "Arrest Data:\n",
      "Index(['PK', 'CCR', 'AGE', 'GENDER', 'RACE', 'ARRESTTIME', 'ARRESTLOCATION',\n",
      "       'OFFENSES', 'INCIDENTLOCATION', 'INCIDENTNEIGHBORHOOD', 'INCIDENTZONE',\n",
      "       'INCIDENTTRACT', 'COUNCIL_DISTRICT', 'PUBLIC_WORKS_DIVISION', 'X', 'Y'],\n",
      "      dtype='object')\n",
      "\n",
      "Fire Data:\n",
      "Index(['call_no', 'incident_type', 'type_description', 'address', 'alarms',\n",
      "       'alarm_time', 'primary_unit', 'census_tract', 'neighborhood',\n",
      "       'council_district', 'ward', 'tract', 'public_works_division',\n",
      "       'pli_division', 'police_zone', 'fire_zone', 'latitude', 'longitude'],\n",
      "      dtype='object')\n",
      "\n",
      "Play Data:\n",
      "Index(['id', 'name', 'equipment_type', 'manufacturer', 'safety_surface_type',\n",
      "       'ada_accessible', 'street_number', 'street', 'neighborhood',\n",
      "       'council_district', 'ward', 'tract', 'public_works_division',\n",
      "       'pli_division', 'police_zone', 'fire_zone', 'latitude', 'longitude'],\n",
      "      dtype='object')\n"
     ]
    }
   ],
   "source": [
    "print(\"Arrest Data:\")\n",
    "print(arrestData.columns)\n",
    "    \n",
    "print(\"\\nFire Data:\")\n",
    "print(fireData.columns)\n",
    "\n",
    "print(\"\\nPlay Data:\")\n",
    "print(playData.columns)"
   ]
  },
  {
   "cell_type": "markdown",
   "metadata": {},
   "source": [
    "# Arrests - \n",
    "# I didn't do the neighborhood_arrest plot. That was Yab, however, I changed it to be horizontal."
   ]
  },
  {
   "cell_type": "markdown",
   "metadata": {},
   "source": [
    "### Since our goal is to determine the best neighborhood by safety, we decided to look at Arrest data and evaluate it by neighborhood"
   ]
  },
  {
   "cell_type": "markdown",
   "metadata": {},
   "source": [
    "### So, here are the 5 neighborhoods with the lowest number of arrests"
   ]
  },
  {
   "cell_type": "markdown",
   "metadata": {},
   "source": [
    "#### The lower, the better :)"
   ]
  },
  {
   "cell_type": "markdown",
   "metadata": {},
   "source": [
    "# I did all of this though\n",
    "### These numbers are great in comparison to these 5 townships:"
   ]
  },
  {
   "cell_type": "code",
   "execution_count": 29,
   "metadata": {},
   "outputs": [
    {
     "data": {
      "image/png": "[encoded data removed]",
      "text/plain": [
       "<Figure size 864x576 with 1 Axes>"
      ]
     },
     "metadata": {
      "needs_background": "light"
     },
     "output_type": "display_data"
    }
   ],
   "source": [
    "plt.figure(figsize=(12, 8))\n",
    "neighborhood_arrests.head(5).plot(kind='bar', color='Pink')\n",
    "plt.title('Lowest Arrests')\n",
    "plt.xlabel('Number of Arrests')\n",
    "plt.ylabel('Neighborhood')\n",
    "plt.show()"
   ]
  },
  {
   "cell_type": "markdown",
   "metadata": {},
   "source": [
    "#### yikes... the difference between the Highest (Central Business District) and the Lowest (Mt. Oliver) is quite large"
   ]
  },
  {
   "cell_type": "markdown",
   "metadata": {},
   "source": [
    "## Arrests but the offense is \"Propulsion of Missiles\""
   ]
  },
  {
   "cell_type": "markdown",
   "metadata": {},
   "source": [
    "### Next, we figured that we'd filter for the most heinous of crimes... the propulsion of missiles."
   ]
  },
  {
   "cell_type": "markdown",
   "metadata": {},
   "source": [
    "#### Who wants to live in a missile-filled neighborhood?\n",
    "\n",
    "Anyway, here's the filtered data:"
   ]
  },
  {
   "cell_type": "code",
   "execution_count": 7,
   "metadata": {},
   "outputs": [
    {
     "name": "stdout",
     "output_type": "stream",
     "text": [
      "_id\n",
      "30     2701 Simple Assault. / 2707 Propulsion of Miss...\n",
      "62     2707 Propulsion of Missiles  / 3304(a)(5) CRIM...\n",
      "729    6106 Firearms not to be Carried without a Lice...\n",
      "730    6106 Firearms not to be Carried without a Lice...\n",
      "964    2705 Recklessy Endangering Another Person. / 6...\n",
      "Name: OFFENSES, dtype: object\n"
     ]
    }
   ],
   "source": [
    "missileData = arrestData['OFFENSES']\n",
    "\n",
    "offense_code = '2707'\n",
    "offense = missileData.str.contains(offense_code, na=False)\n",
    "\n",
    "filtered_data = missileData[offense]\n",
    "print(filtered_data.head(5))"
   ]
  },
  {
   "cell_type": "markdown",
   "metadata": {},
   "source": [
    "#### Checking to ensure the arrestData is good:"
   ]
  },
  {
   "cell_type": "code",
   "execution_count": 8,
   "metadata": {},
   "outputs": [
    {
     "data": {
      "text/plain": [
       "'2702 Aggravated Assault. / 2705 Recklessy Endangering Another Person. / 2707 Propulsion of Missiles  / 5503(a)(4) DISORDERLY CONDUCT - HAZARDOUS/PHYS. OFF'"
      ]
     },
     "execution_count": 8,
     "metadata": {},
     "output_type": "execute_result"
    }
   ],
   "source": [
    "arrestData.iloc[2398-1][7] # -1 for indexing purposes"
   ]
  },
  {
   "cell_type": "markdown",
   "metadata": {},
   "source": [
    "#### Total number of arrests made from offense code 2707 for curiousity purposes"
   ]
  },
  {
   "cell_type": "code",
   "execution_count": 9,
   "metadata": {},
   "outputs": [
    {
     "name": "stdout",
     "output_type": "stream",
     "text": [
      "213\n"
     ]
    }
   ],
   "source": [
    "print(offense.sum())"
   ]
  },
  {
   "cell_type": "markdown",
   "metadata": {},
   "source": [
    "### Now, we wanted to graph all the neighborhoods with the propulsion of missiles so we can avoid all of them."
   ]
  },
  {
   "cell_type": "code",
   "execution_count": 10,
   "metadata": {},
   "outputs": [
    {
     "data": {
      "image/png": "[encoded data removed]",
      "text/plain": [
       "<Figure size 864x576 with 1 Axes>"
      ]
     },
     "metadata": {
      "needs_background": "light"
     },
     "output_type": "display_data"
    }
   ],
   "source": [
    "F = arrestData[offense].groupby('INCIDENTNEIGHBORHOOD').size().sort_values(ascending=False)\n",
    "plt.figure(figsize=(12, 8))\n",
    "F.plot(kind='bar', color='#FFAAAA')\n",
    "plt.title('Number of Propulsion of Missiles Offenses by Neighborhood')\n",
    "plt.xlabel('Neighborhood')\n",
    "plt.ylabel('Number of Arrests for Missiles')\n",
    "plt.show()"
   ]
  },
  {
   "cell_type": "markdown",
   "metadata": {},
   "source": [
    "#### What is happening in Brighton Heights?!"
   ]
  },
  {
   "cell_type": "markdown",
   "metadata": {},
   "source": [
    "# Fire Incidents\n",
    "# I didn't do the fire incidents graph."
   ]
  },
  {
   "cell_type": "markdown",
   "metadata": {},
   "source": [
    "## Our second metric was fire data. The reasoning is fire isn't very safe."
   ]
  },
  {
   "cell_type": "markdown",
   "metadata": {},
   "source": [
    "### Another thing to mention is that if you want to buy a house, you don't want that house to burn down."
   ]
  },
  {
   "cell_type": "code",
   "execution_count": 6,
   "metadata": {},
   "outputs": [],
   "source": [
    "neighborhood_fires = fireData['neighborhood'].value_counts()\n"
   ]
  },
  {
   "cell_type": "markdown",
   "metadata": {},
   "source": [
    "### Why is the mean so high??"
   ]
  },
  {
   "cell_type": "code",
   "execution_count": 13,
   "metadata": {},
   "outputs": [
    {
     "name": "stdout",
     "output_type": "stream",
     "text": [
      "89.8021978021978\n"
     ]
    }
   ],
   "source": [
    "averageFires = neighborhood_fires.mean()\n",
    "print(averageFires)"
   ]
  },
  {
   "cell_type": "markdown",
   "metadata": {},
   "source": [
    "#### I think it's entirely reasonable to assume that neighborhoods with fire incidents above the mean are more likely to have arsonists.\n",
    "\n",
    "#### The correlation grows with the number of fire incidents above the mean. "
   ]
  },
  {
   "cell_type": "markdown",
   "metadata": {},
   "source": [
    "## List of Neighborhoods who probably have Arsonists:"
   ]
  },
  {
   "cell_type": "markdown",
   "metadata": {},
   "source": [
    "##### *also known as: bad investment neighborhoods*"
   ]
  },
  {
   "cell_type": "code",
   "execution_count": 14,
   "metadata": {},
   "outputs": [
    {
     "name": "stdout",
     "output_type": "stream",
     "text": [
      "Carrick                      284\n",
      "Central Business District    266\n",
      "South Side Flats             261\n",
      "Squirrel Hill South          253\n",
      "Hazelwood                    244\n",
      "Mount Washington             220\n",
      "East Liberty                 207\n",
      "Lincoln-Lemington-Belmar     196\n",
      "Homewood South               190\n",
      "Brookline                    189\n",
      "Shadyside                    183\n",
      "Homewood North               182\n",
      "Knoxville                    179\n",
      "Sheraden                     172\n",
      "Bloomfield                   172\n",
      "Perry South                  163\n",
      "East Hills                   154\n",
      "Brighton Heights             153\n",
      "Beechview                    146\n",
      "Bluff                        143\n",
      "Marshall-Shadeland           142\n",
      "East Allegheny               131\n",
      "Squirrel Hill North          130\n",
      "Central Northside            130\n",
      "Beltzhoover                  129\n",
      "North Oakland                125\n",
      "Allentown                    125\n",
      "Larimer                      124\n",
      "Greenfield                   115\n",
      "Garfield                     110\n",
      "Crawford-Roberts             108\n",
      "Perry North                  108\n",
      "Middle Hill                  104\n",
      "Spring Hill-City View        103\n",
      "South Side Slopes            102\n",
      "Central Oakland               94\n",
      "South Oakland                 92\n",
      "Name: neighborhood, dtype: int64\n"
     ]
    }
   ],
   "source": [
    "likelyArsonists = neighborhood_fires[fireData['neighborhood'].value_counts() > averageFires]\n",
    "\n",
    "print(likelyArsonists)"
   ]
  },
  {
   "cell_type": "markdown",
   "metadata": {},
   "source": [
    "# Number of Playgrounds \n",
    "## All of my contributions:"
   ]
  },
  {
   "cell_type": "markdown",
   "metadata": {},
   "source": [
    "### Okay, okay. We have found the neighborhoods with the lowest arrests and lowest fire incidents. Now, we have to pick a neighborhood based on its playgrounds."
   ]
  },
  {
   "cell_type": "markdown",
   "metadata": {},
   "source": [
    "#### After all, the more playgrounds, the safer it is... right?"
   ]
  },
  {
   "cell_type": "markdown",
   "metadata": {},
   "source": [
    "## Wait a minute..."
   ]
  },
  {
   "cell_type": "markdown",
   "metadata": {},
   "source": [
    "## South Side Slopes and Squirrel Hill South were also #3 and #4 respectively on the likely arsonists leaderboard...\n",
    "## *arson isn't very safe*...\n",
    "### Therefore, there **is** a positive correlation between a higher number of *Fire Incidents* and a higher number of *Playgrounds*\n",
    "I knew it playgrounds were trouble..."
   ]
  },
  {
   "cell_type": "markdown",
   "metadata": {},
   "source": [
    "### Re-evaluating..."
   ]
  },
  {
   "cell_type": "markdown",
   "metadata": {},
   "source": [
    "#### We know that Mt. Oliver had the lowest number of arrests and was the third **and** first in lowest neighborhood per Fire Incidents...\n",
    "\n",
    "##### let's check how many playgrounds it has..."
   ]
  },
  {
   "cell_type": "code",
   "execution_count": 16,
   "metadata": {},
   "outputs": [
    {
     "data": {
      "text/html": [
       "<div>\n",
       "<style scoped>\n",
       "    .dataframe tbody tr th:only-of-type {\n",
       "        vertical-align: middle;\n",
       "    }\n",
       "\n",
       "    .dataframe tbody tr th {\n",
       "        vertical-align: top;\n",
       "    }\n",
       "\n",
       "    .dataframe thead th {\n",
       "        text-align: right;\n",
       "    }\n",
       "</style>\n",
       "<table border=\"1\" class=\"dataframe\">\n",
       "  <thead>\n",
       "    <tr style=\"text-align: right;\">\n",
       "      <th></th>\n",
       "      <th>id</th>\n",
       "      <th>name</th>\n",
       "      <th>equipment_type</th>\n",
       "      <th>manufacturer</th>\n",
       "      <th>safety_surface_type</th>\n",
       "      <th>ada_accessible</th>\n",
       "      <th>street_number</th>\n",
       "      <th>street</th>\n",
       "      <th>neighborhood</th>\n",
       "      <th>council_district</th>\n",
       "      <th>ward</th>\n",
       "      <th>tract</th>\n",
       "      <th>public_works_division</th>\n",
       "      <th>pli_division</th>\n",
       "      <th>police_zone</th>\n",
       "      <th>fire_zone</th>\n",
       "      <th>latitude</th>\n",
       "      <th>longitude</th>\n",
       "    </tr>\n",
       "    <tr>\n",
       "      <th>_id</th>\n",
       "      <th></th>\n",
       "      <th></th>\n",
       "      <th></th>\n",
       "      <th></th>\n",
       "      <th></th>\n",
       "      <th></th>\n",
       "      <th></th>\n",
       "      <th></th>\n",
       "      <th></th>\n",
       "      <th></th>\n",
       "      <th></th>\n",
       "      <th></th>\n",
       "      <th></th>\n",
       "      <th></th>\n",
       "      <th></th>\n",
       "      <th></th>\n",
       "      <th></th>\n",
       "      <th></th>\n",
       "    </tr>\n",
       "  </thead>\n",
       "  <tbody>\n",
       "  </tbody>\n",
       "</table>\n",
       "</div>"
      ],
      "text/plain": [
       "Empty DataFrame\n",
       "Columns: [id, name, equipment_type, manufacturer, safety_surface_type, ada_accessible, street_number, street, neighborhood, council_district, ward, tract, public_works_division, pli_division, police_zone, fire_zone, latitude, longitude]\n",
       "Index: []"
      ]
     },
     "execution_count": 16,
     "metadata": {},
     "output_type": "execute_result"
    }
   ],
   "source": [
    "Olivermask = playData['neighborhood'] == 'Mt. Oliver'\n",
    "\n",
    "playData[Olivermask].head()"
   ]
  },
  {
   "cell_type": "markdown",
   "metadata": {},
   "source": [
    "### It looks like Mt. Oliver has **no** Playgrounds!!"
   ]
  },
  {
   "cell_type": "markdown",
   "metadata": {},
   "source": [
    "### This adds greater evidence for the correlation between Fire Incidents and Number of Playgrounds!!"
   ]
  },
  {
   "cell_type": "markdown",
   "metadata": {},
   "source": [
    "# Conclusion\n",
    "# We worked on this together, he had the first draft of most of the things and I added / modified them."
   ]
  },
  {
   "cell_type": "markdown",
   "metadata": {},
   "source": [
    "## **Mt. Oliver** is the top candidate for Pittsburgh's greatest neighborhood, according to our data-driven analysis that uses arrest records, fire occurrences, and has **no** playground availability. Therefore, Mt. Oliver is clearly the safest neighborhood in Pittsburgh. \n",
    "## We also believe that the \"best\" neighborhood is the safest one. This is because safety is the only metric that *really* matters. Afterall, common metrics such as cost of living or good public education really doesn't matter if you're being attacked with missiles or your house burns down.\n",
    "\n",
    "## This method offers an **unbiased evaluation**, highlighting the neighborhood's superiority in terms of safety and less arson!\n",
    "### These findings are pretty much **indisputable** to any rational person.\n",
    "#### And no, we don't care about conflating factors such as \"population\" or \"police bias\". We only care about **hard** numbers. As in, what neighborhood has the lowest arrests? Lowest fire incidents? Who cares about \"**per capita**\"? \n",
    "\n",
    "## Hayden's conclusion:\n",
    "### Personally, I think Mt. Oliver is  by far the safest neighborhood. It has the lowest arrests, absolutely NO propulsions of missiles and is both the first and third in terms of the lowest fire incidents. You really can't beat it. It's just not possible."
   ]
  },
  {
   "cell_type": "markdown",
   "metadata": {},
   "source": [
    "![](mark.jpg)"
   ]
  }
 ],
 "metadata": {
  "kernelspec": {
   "display_name": "Python 3",
   "language": "python",
   "name": "python3"
  },
  "language_info": {
   "codemirror_mode": {
    "name": "ipython",
    "version": 3
   },
   "file_extension": ".py",
   "mimetype": "text/x-python",
   "name": "python",
   "nbconvert_exporter": "python",
   "pygments_lexer": "ipython3",
   "version": "3.8.3"
  }
 },
 "nbformat": 4,
 "nbformat_minor": 4
}
